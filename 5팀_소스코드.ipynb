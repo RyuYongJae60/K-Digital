{
 "cells": [
  {
   "cell_type": "code",
   "execution_count": null,
   "metadata": {},
   "outputs": [],
   "source": [
    "# 라이브러리 불러오기\n",
    "import numpy as np\n",
    "import pandas as pd\n",
    "import matplotlib.pyplot as plt\n",
    "import seaborn as sns\n",
    "import matplotlib.font_manager as fm\n",
    "import os\n",
    "import matplotlib.pyplot as plt"
   ]
  },
  {
   "cell_type": "code",
   "execution_count": null,
   "metadata": {},
   "outputs": [],
   "source": [
    "# 한글 인코딩\n",
    "!apt-get -qq install fonts-nanum\n",
    "\n",
    "fe = fm.FontEntry(\n",
    "    fname=r'/usr/share/fonts/truetype/nanum/NanumGothic.ttf', # ttf 파일이 저장되어 있는 경로\n",
    "    name='NanumGothic')                        # 이 폰트의 원하는 이름 설정\n",
    "fm.fontManager.ttflist.insert(0, fe)              # Matplotlib에 폰트 추가\n",
    "plt.rcParams.update({'font.size':'10', 'font.family': 'NanumGothic'}) # 폰트 설정"
   ]
  },
  {
   "cell_type": "code",
   "execution_count": null,
   "metadata": {},
   "outputs": [],
   "source": [
    "#실거래가 데이터 불러오기\n",
    "df12 = pd.read_csv(\"./서울시 부동산 실거래가 정보12.csv\")\n",
    "df13 = pd.read_csv(\"./서울시 부동산 실거래가 정보13.csv\")\n",
    "df14 = pd.read_csv(\"./서울시 부동산 실거래가 정보14.csv\")\n",
    "df15 = pd.read_csv(\"./서울시 부동산 실거래가 정보15.csv\")\n",
    "df16 = pd.read_csv(\"./서울시 부동산 실거래가 정보16.csv\")\n",
    "df17 = pd.read_csv(\"./서울시 부동산 실거래가 정보17.csv\")\n",
    "df18 = pd.read_csv(\"./서울시 부동산 실거래가 정보18.csv\")\n",
    "df19 = pd.read_csv(\"./서울시 부동산 실거래가 정보19.csv\")\n",
    "df20 = pd.read_csv(\"./서울시 부동산 실거래가 정보20.csv\")\n",
    "df21 = pd.read_csv(\"./서울시 부동산 실거래가 정보21.csv\")\n",
    "df22 = pd.read_csv(\"./서울시 부동산 실거래가 정보22.csv\")"
   ]
  },
  {
   "cell_type": "code",
   "execution_count": null,
   "metadata": {},
   "outputs": [],
   "source": [
    "# 12~22년도 실거래가 데이터를 합친 데이터 로드 (엑셀로 데이터 합침)\n",
    "df = pd.read_csv(\"./실거래가 법정동명 전처리.csv\",encoding='utf-8')\n",
    "\n",
    "# 필요없는 컬럼 삭제\n",
    "df.drop(['자치구코드','법정동코드','지번구분','지번구분명','본번','부번','건물명',\n",
    "         '토지면적(㎡)','층','권리구분','취소일','건물용도','신고구분',\n",
    "         '신고한 개업공인중개사 시군구명'], axis = 1, inplace = True)\n",
    "\n",
    "\n",
    "# 건축년도가 0인 값 제거\n",
    "df[df['건축년도']== 0]\n",
    "\n",
    "#전처리 완료한 서울시 부동산 실거래가 정보 csv로 저장하기\n",
    "f1 = df.to_csv('./서울시 부동산 실거래가.csv',encoding = 'utf-8')"
   ]
  },
  {
   "cell_type": "code",
   "execution_count": null,
   "metadata": {},
   "outputs": [],
   "source": [
    "# 세대수 변동율 정책키워드 금리 데이터를 로드 \n",
    "df5 = pd.read_csv(\"./서울시 주택 대장 공급대상 정보.csv\")\n",
    "df6 = pd.read_csv(\"./변동률 기사자료 12~22.csv\")\n",
    "df7 = pd.read_csv(\"./정책 키워드.csv\")\n",
    "df8 = pd.read_csv(\"./금리 변동율 12~22.csv\")\n",
    "\n",
    "\n",
    "# 세대수 변동율 정책 키워드 금리 데이터를 합친 데이터 로드 \n",
    "f2 = pd.read_csv(\"./세대수,변동율,정책,금리.csv\",encoding='utf-8')\n",
    "\n",
    "\n",
    "# 실거래가 데이터와 서대수 변동율 정책 키워드 금리 데이터를 계약일,계약월을 기준으로 merge\n",
    "c = f1.merge(f2, on=('계약년', '계약월'))\n",
    "\n",
    "# 건축년도 -> 연식으로 분류(2022 - 건축년도)\n",
    "c['연식'] = 2022 - c['건축년도']\n",
    "c.drop('건축년도', axis=1, inplace=True)\n",
    "\n",
    "\n",
    "main = c.to_csv('./main.csv', index=False, encoding='utf-8-sig')"
   ]
  },
  {
   "cell_type": "code",
   "execution_count": null,
   "metadata": {},
   "outputs": [],
   "source": [
    "# 건물 면적 평수 분류 (컬럼명 : 건물면적(㎡) -> 평수)\n",
    "def buldingArea(value):\n",
    "    if value < 66.11570:\n",
    "        return '10평대'\n",
    "    elif value < 99.173554:\n",
    "        return '20평대'\n",
    "    elif value < 132.231405:\n",
    "        return '30평대'\n",
    "    elif value < 165.289256:\n",
    "        return '40평대'\n",
    "    elif value < 198.347107:\n",
    "        return '50평대'\n",
    "    else:\n",
    "        return '60평 이상'\n",
    "    \n",
    "\n",
    "# 건물 가격 분류 (컬럼명 : 물건금액(만원) -> 매매가)\n",
    "def salePrice(value):\n",
    "    if value <= 50000:\n",
    "        return '5억 이하'\n",
    "    elif value <= 100000:\n",
    "        return '10억 이하'\n",
    "    elif value <= 200000:\n",
    "        return '20억 이하'\n",
    "    elif value <= 300000:\n",
    "        return '30억 이하'\n",
    "    else:\n",
    "        return '31억 이상'\n",
    "     \n",
    "       \n",
    "main['평수'] = main['건물면적(㎡)'].apply(buldingArea)\n",
    "main['매매가'] = main['물건금액(만원)'].apply(salePrice)"
   ]
  },
  {
   "cell_type": "markdown",
   "metadata": {},
   "source": [
    "평수, 금리, 연식 데이터 빈도수 시각화"
   ]
  },
  {
   "cell_type": "code",
   "execution_count": null,
   "metadata": {},
   "outputs": [],
   "source": [
    "# 평수데이터를 통한 빈도수 확인\n",
    "sns.countplot(y = '평수', data = main)\n",
    "\n",
    "# 금리데이터를 통한 빈도수 확인\n",
    "sns.countplot(y='금리', data=main)\n",
    "\n",
    "# 연식데이터를 통한 빈도수 확인\n",
    "sns.countplot(y='연식', data=main)"
   ]
  },
  {
   "cell_type": "markdown",
   "metadata": {},
   "source": [
    "전체변수 히트맵"
   ]
  },
  {
   "cell_type": "code",
   "execution_count": null,
   "metadata": {},
   "outputs": [],
   "source": [
    "df = c.drop([\"정책\",\"키워드\",'계약년','계약월'],axis=1)\n",
    "\n",
    "sns.heatmap(df.corr(),annot=True)"
   ]
  },
  {
   "cell_type": "markdown",
   "metadata": {},
   "source": [
    "한국 금리 그래프"
   ]
  },
  {
   "cell_type": "code",
   "execution_count": null,
   "metadata": {},
   "outputs": [],
   "source": [
    "df1 = pd.read_csv(\"./main.csv\",encoding=\"utf-8\")\n",
    "df2 = pd.read_csv(\"./세대수,변동율,정책,금리.csv\",encoding=\"utf-8\")\n",
    "\n",
    "# 시계열 데이터 생성\n",
    "dateMonth = pd.period_range(start='2012-01',end='2022-12', freq='M')\n",
    "x = []\n",
    "xLabels = []\n",
    "\n",
    "for i in dateMonth:\n",
    "  x.append(str(i))\n",
    "  if int(str(i)[-2:]) / 1 == 1:\n",
    "    xLabels.append(str(i))\n",
    "\n",
    "plt.rc('font', family='NanumGothic')\n",
    "plt.rcParams['axes.unicode_minus'] = False\n",
    "\n",
    "y = df2[['금리']]\n",
    "plt.plot(x,y)\n",
    "plt.xticks(np.arange(0,132,12),labels = xLabels)\n",
    "plt.xticks(rotation=45)\n",
    "plt.title(\"한국 금리\")\n",
    "plt.show()"
   ]
  },
  {
   "cell_type": "code",
   "execution_count": null,
   "metadata": {},
   "outputs": [],
   "source": [
    "y = df2[['변동율']]\n",
    "plt.plot(x,y)\n",
    "plt.xticks(np.arange(0,132,12),labels = xLabels)\n",
    "plt.xticks(rotation=45)\n",
    "plt.title(\"서울 아파트 매매가 변동률\")"
   ]
  },
  {
   "cell_type": "markdown",
   "metadata": {},
   "source": [
    "금리와 변동률 그래프"
   ]
  },
  {
   "cell_type": "code",
   "execution_count": null,
   "metadata": {},
   "outputs": [],
   "source": [
    "y1 = df2[['변동율']]\n",
    "y2 = df2[['금리']]\n",
    "plt.plot(x,y1)\n",
    "plt.plot(x,y2)\n",
    "plt.xticks(np.arange(0,132,12),labels = xLabels)\n",
    "plt.xticks(rotation=45)\n",
    "plt.title(\"금리에 따른 매매가격 변동률 변화\")\n",
    "plt.plot(x,y1,label='변동률')\n",
    "plt.plot(x,y2,label='금리')\n",
    "plt.legend(loc='best')\n",
    "plt.show()"
   ]
  },
  {
   "cell_type": "markdown",
   "metadata": {},
   "source": [
    "정책 키워드의 변동률 누적 변화량"
   ]
  },
  {
   "cell_type": "code",
   "execution_count": null,
   "metadata": {},
   "outputs": [],
   "source": [
    "# 데이터 테이블 그룹화\n",
    "# 행: 계약년 그룹\n",
    "# 열: 계약월 그룹\n",
    "# 값: 변동율\n",
    "an = pd.pivot_table(main, index = '계약년',columns = '계약월',values = '변동율')\n",
    "ana = sns.heatmap(an, annot = True)"
   ]
  },
  {
   "cell_type": "code",
   "execution_count": null,
   "metadata": {},
   "outputs": [],
   "source": [
    "# 데이터 테이블 그룹화\n",
    "# 행: 금리 그룹\n",
    "# 열: 계약년 그룹\n",
    "# 값: 변동율 평균값\n",
    "an1 = pd.pivot_table(main, index = '금리', columns = '계약년', values = '변동율', aggfunc = 'mean')\n",
    "plt.figure(figsize=(6,5))\n",
    "sns.heatmap(an1, annot = True)"
   ]
  },
  {
   "cell_type": "code",
   "execution_count": null,
   "metadata": {},
   "outputs": [],
   "source": [
    "x = [['건설사',0],['건축',0],['대출',0],['매매',0],['복지',0],['분양',0],['세금',0],['신용',0],['임대주택',0],['재개발',0],['재건축',0],['청약',0],['투기',0]]\n",
    "\n",
    "count = 0.27\n",
    "keyWord = []\n",
    "y = []\n",
    "for keyword in x:\n",
    "  for item1,item2 in zip(df2['변동율'],df2['키워드']):\n",
    "    if keyword[0] == item2:\n",
    "      keyword[1] = round(keyword[1],2) + round(abs(round(abs(item1),2)),2)\n",
    "      keyword[1] = round(keyword[1],2) * 1\n",
    "    count = abs(item1)\n",
    "  keyWord.append(keyword[0])\n",
    "\n",
    "for i in x:\n",
    "  y.append(i[1])\n",
    "\n",
    "plt.bar(keyWord,y)\n",
    "plt.rc('font', family='NanumGothic')\n",
    "plt.rcParams['axes.unicode_minus'] = False\n",
    "plt.xticks(rotation=45)\n",
    "plt.title(\"정책 키워드의 변동률 누적 변화량\")\n",
    "plt.show()"
   ]
  },
  {
   "cell_type": "markdown",
   "metadata": {},
   "source": [
    "금리와 변동률 그래프"
   ]
  },
  {
   "cell_type": "code",
   "execution_count": null,
   "metadata": {},
   "outputs": [],
   "source": [
    "x = [['건설사',0,0],['건축',0,0],['대출',0,0],['매매',0,0],['복지',0,0],['분양',0,0],['세금',0,0],['신용',0,0],['임대주택',0,0],['재개발',0,0],['재건축',0,0],['청약',0,0],['투기',0,0]]\n",
    "\n",
    "count = 0.27\n",
    "keyWord = []\n",
    "y = []\n",
    "for keyword in x:\n",
    "  for item1,item2 in zip(df2['변동율'],df2['키워드']):\n",
    "    if keyword[0] == item2:\n",
    "      keyword[1] = round(keyword[1],2) + round(abs(round(abs(item1),2)),2)\n",
    "      keyword[1] = round(keyword[1],2) * 1\n",
    "      keyword[2] += 1\n",
    "    count = abs(item1)\n",
    "  keyWord.append(keyword[0])\n",
    "X = []\n",
    "for i in x:\n",
    "  X.append(i[2])\n",
    "\n",
    "for i in X:\n",
    "  y.append(i)\n",
    "\n",
    "plt.bar(keyWord,X)\n",
    "plt.rc('font', family='NanumGothic')\n",
    "plt.rcParams['axes.unicode_minus'] = False\n",
    "plt.xticks(rotation=45)\n",
    "plt.title(\"정책 키워드의 변동률 누적 변화량 \")\n",
    "plt.show()"
   ]
  },
  {
   "cell_type": "markdown",
   "metadata": {},
   "source": [
    "지역구별 최고가 최저가 시각화"
   ]
  },
  {
   "cell_type": "code",
   "execution_count": null,
   "metadata": {},
   "outputs": [],
   "source": [
    "# csv파일 호출\n",
    "df = pd.read_csv('main.csv')\n",
    "\n",
    "\n",
    "# sample 변수에 df 파일 복사\n",
    "sample = df.copy()\n",
    "\n",
    "\n",
    "# 자치구 index 뽑기\n",
    "ADN = sample['자치구명'].value_counts()\n",
    "\n",
    "# 아파트 최고가, 최저가 그룹화\n",
    "maxD = sample.groupby('자치구명')['물건금액(만원)'].max()\n",
    "minD = sample.groupby('자치구명')['물건금액(만원)'].min()"
   ]
  },
  {
   "cell_type": "code",
   "execution_count": null,
   "metadata": {},
   "outputs": [],
   "source": [
    "# 자치구명을 기준으로 그룹한 데이터에서 자치구명 추출\n",
    "idx = maxD.index.values\n",
    "\n",
    "# 지역구별 최고가\n",
    "plt.barplot(x=idx, y=maxD)\n",
    "plt.xticks(rotation=45)\n",
    "plt.ticklabel_format(axis='y', useOffset=False, style='plain')\n",
    "plt.title('지역구별 최고가')\n",
    "\n",
    "\n",
    "# 지역구별 최저가\n",
    "plt.barplot(x=idx, y=minD)\n",
    "plt.xticks(rotation=45)\n",
    "plt.ticklabel_format(axis='y', useOffset=False, style='plain')\n",
    "plt.title('지역구별 최저가')"
   ]
  },
  {
   "cell_type": "markdown",
   "metadata": {},
   "source": [
    "평균 가격의 변화가 큰 년도: 2012, 2017, 2022"
   ]
  },
  {
   "cell_type": "code",
   "execution_count": null,
   "metadata": {},
   "outputs": [],
   "source": [
    "# 자치구 index 뽑기\n",
    "ADN = sample['자치구명'].value_counts()\n",
    "\n",
    "\n",
    "# 2012년 아파트 평균 가격\n",
    "l = []\n",
    "for i in ADN.index:\n",
    "    print(i)\n",
    "    q = sample.loc[(sample['자치구명'] == i) & (sample['계약년'] == 2012), '물건금액(만원)'].mean()\n",
    "    l.append(q)\n",
    "\n",
    "sns.barplot(x = ADN.index, y=l)\n",
    "plt.xticks(rotation=45)\n",
    "plt.title('2012 아파트 평균 가격')\n",
    "plt.xlabel('자치구명')\n",
    "plt.ylabel('아파트 평균 가격(만원)')"
   ]
  },
  {
   "cell_type": "code",
   "execution_count": null,
   "metadata": {},
   "outputs": [],
   "source": [
    "# 2017년 아파트 평균 가격\n",
    "l = []\n",
    "for i in ADN.index:\n",
    "    print(i)\n",
    "    q = sample.loc[(sample['자치구명'] == i) & (sample['계약년'] == 2017), '물건금액(만원)'].mean()\n",
    "    l.append(q)\n",
    "\n",
    "sns.barplot(x = ADN.index, y=l)\n",
    "plt.xticks(rotation=45)\n",
    "plt.title('2017 아파트 평균 가격')\n",
    "plt.xlabel('자치구명')\n",
    "plt.ylabel('아파트 평균 가격(만원)')"
   ]
  },
  {
   "cell_type": "code",
   "execution_count": null,
   "metadata": {},
   "outputs": [],
   "source": [
    "# 2022년 아파트 평균 가격\n",
    "l = []\n",
    "for i in ADN.index:\n",
    "    print(i)\n",
    "    q = sample.loc[(sample['자치구명'] == i) & (sample['계약년'] == 2022), '물건금액(만원)'].mean()\n",
    "    l.append(q)\n",
    "\n",
    "sns.barplot(x = ADN.index, y=l)\n",
    "plt.xticks(rotation=45)\n",
    "plt.title('2022 아파트 평균 가격')\n",
    "plt.xlabel('자치구명')\n",
    "plt.ylabel('아파트 평균 가격(만원)')"
   ]
  }
 ],
 "metadata": {
  "language_info": {
   "name": "python"
  }
 },
 "nbformat": 4,
 "nbformat_minor": 2
}
